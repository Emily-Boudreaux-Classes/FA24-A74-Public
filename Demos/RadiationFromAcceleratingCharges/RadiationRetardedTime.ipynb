{
 "cells": [
  {
   "cell_type": "markdown",
   "id": "2732b46e-f2e3-4ca0-a7ef-2ff3cd4dcff5",
   "metadata": {},
   "source": [
    "# Modeling Electric Field of a Moving Charge\n",
    "We know from chapter 3 that there are two contributing components to an electric field, the velocity and the acceleration fields, such that\n",
    "$$\n",
    "E_{total} = E_{vel} + E_{acc}\n",
    "$$\n",
    "\n",
    "Recal that  these fields take the form\n",
    "\n",
    "$$\n",
    "E_{vel} = q\\left[\\frac{\\left(\\vec{n}-\\vec{\\beta}\\right)\\left(1-\\vec{\\beta}^{2}\\right)}{\\kappa^{3}R^{2}}\\right]\n",
    "$$\n",
    "and\n",
    "$$\n",
    "E_{acc} = \\frac{q}{c}\\left[\\frac{\\vec{n}}{\\kappa^{3}R}\\times\\left(\\left(\\vec{n}-\\vec{\\beta}\\right)\\times \\dot{\\vec{\\beta}}\\right)\\right]\n",
    "$$\n",
    "\n",
    "As you will see in Chapter 3.3 there are limiting cases we can take when $\\beta << c$. However, since we have the tools of numeric simulations at our disposal we can also peak ahead to some future chapters and see what the effects of this full formulation is on the electric field with a moving and an accelerating charge.\n",
    "\n",
    "In order to run this notebook you will need tqdm and mplEasyAnimate installed"
   ]
  },
  {
   "cell_type": "code",
   "execution_count": 15,
   "id": "22d1b198-8c5e-4ce5-bf0c-d826ee78da37",
   "metadata": {},
   "outputs": [],
   "source": [
    "import numpy as np\n",
    "import matplotlib.pyplot as plt\n",
    "from tqdm.notebook import tqdm\n",
    "from mplEasyAnimate import animation\n",
    "from IPython.display import Video\n",
    "plt.style.use(pubStyle)"
   ]
  },
  {
   "cell_type": "markdown",
   "id": "8dfafde3-b720-4662-8fc8-fb3a3ec0581b",
   "metadata": {},
   "source": [
    "Below is a very simple (and slap-dash) approach to simulating this situation. I first setup initial conditions, then I model the particle moving along the x axis with a period of acceleration (from taccel to t=1). Next I calculate the electric field at every point on a grid considering the retarded time"
   ]
  },
  {
   "cell_type": "code",
   "execution_count": 198,
   "id": "fca781d3-d47c-4a65-a1b9-829598634fd2",
   "metadata": {},
   "outputs": [
    {
     "data": {
      "application/json": {
       "ascii": false,
       "bar_format": null,
       "colour": null,
       "elapsed": 0.006566762924194336,
       "initial": 0,
       "n": 0,
       "ncols": null,
       "nrows": null,
       "postfix": null,
       "prefix": "",
       "rate": null,
       "total": 400,
       "unit": "it",
       "unit_divisor": 1000,
       "unit_scale": false
      },
      "application/vnd.jupyter.widget-view+json": {
       "model_id": "5e89634908f24cefacfd74085ba70d35",
       "version_major": 2,
       "version_minor": 0
      },
      "text/plain": [
       "  0%|          | 0/400 [00:00<?, ?it/s]"
      ]
     },
     "metadata": {},
     "output_type": "display_data"
    }
   ],
   "source": [
    "# Constants\n",
    "c = 1 # Speed of light (m/s)\n",
    "epsilon_0 = 1 # Vacuum permittivity (F/m)\n",
    "q = 1  # Charge in Coulombs (adjust as needed)\n",
    "\n",
    "# Initial conditions\n",
    "r0 = np.array([-1.0, 0.0])   # Initial position (m)\n",
    "drdt = np.array([0.8, 0.0])  # Initial velocity (m/s)\n",
    "dvdt = np.array([0.0, 0.0])  # Initial acceleration (m/s^2)\n",
    "tmax = 2\n",
    "taccel = 0.5\n",
    "dt = 0.005\n",
    "times = np.arange(0, tmax, dt)\n",
    "num_steps = len(times)\n",
    "\n",
    "# Arrays to store position, velocity, and acceleration\n",
    "rHist = np.zeros((num_steps, 2))\n",
    "vHist = np.zeros((num_steps, 2))\n",
    "aHist = np.zeros((num_steps, 2))\n",
    "\n",
    "# Initial position and velocity\n",
    "r = r0.copy()\n",
    "v = drdt.copy()\n",
    "a = dvdt.copy()\n",
    "\n",
    "## Model the Particle Position\n",
    "for tidx, t in enumerate(times):\n",
    "    if t >= taccel and np.sqrt(v[0]**2 + v[1]**2) >= 0:\n",
    "        dvdt = np.array([-1, 0.0])\n",
    "    else:\n",
    "        dvdt = np.array([0, 0])\n",
    "\n",
    "    # Update acceleration, velocity, and position\n",
    "    a = dvdt\n",
    "    v += a * dt\n",
    "    r += v * dt\n",
    "\n",
    "    # Store values\n",
    "    rHist[tidx] = r\n",
    "    vHist[tidx] = v\n",
    "    aHist[tidx] = a\n",
    "\n",
    "\n",
    "# Spatial grid for field calculation\n",
    "x = np.linspace(-2, 2, 50)\n",
    "y = np.linspace(-2, 2, 50)\n",
    "X, Y = np.meshgrid(x, y)\n",
    "grid_shape = X.shape\n",
    "\n",
    "# Initialize electric field history array\n",
    "EHist = np.zeros((num_steps, 2, *grid_shape))\n",
    "\n",
    "# Precompute field point positions\n",
    "field_points = np.stack((X.flatten(), Y.flatten()), axis=-1)\n",
    "\n",
    "# Loop over time steps\n",
    "for tidx, t in tqdm(enumerate(times), total=num_steps):\n",
    "    # Charge's current position and velocity\n",
    "    r_q_t = rHist[tidx]\n",
    "    v_q_t = vHist[tidx]\n",
    "    a_q_t = aHist[tidx]\n",
    "\n",
    "    # Initialize arrays for this time step\n",
    "    Ex = np.zeros(grid_shape)\n",
    "    Ey = np.zeros(grid_shape)\n",
    "\n",
    "    for idx, point in enumerate(field_points):\n",
    "        i, j = np.unravel_index(idx, grid_shape)\n",
    "        \n",
    "        # Approximate retarded time\n",
    "        R = point - r_q_t\n",
    "        R_mag = np.linalg.norm(R)\n",
    "        t_ret = t - R_mag / c\n",
    "\n",
    "        # Find the index closest to t_ret since it is possible that there was not a simulation step at exatly the retarded time\n",
    "        t_ret_idx = np.argmin(np.abs(times - t_ret))\n",
    "\n",
    "        # Get the charge's position, velocity, and acceleration at retarded time\n",
    "        r_q_tr = rHist[t_ret_idx]\n",
    "        v_q_tr = vHist[t_ret_idx]\n",
    "        a_q_tr = aHist[t_ret_idx]\n",
    "\n",
    "        # Recalculate R and R_mag using retarded position\n",
    "        R = point - r_q_tr\n",
    "        R_mag = np.linalg.norm(R)\n",
    "\n",
    "        # Avoid division by zero\n",
    "        if R_mag < 1e-6:\n",
    "            continue\n",
    "\n",
    "        # **Extend n and beta to 3D by adding zero z-component** This is to make the cross product work properly since it is not well defined in 2D\n",
    "        n = R / R_mag  # Unit vector from charge to field point\n",
    "        n_3d = np.append(n, 0)\n",
    "\n",
    "        beta = v_q_tr / c\n",
    "        beta_3d = np.append(beta, 0)\n",
    "\n",
    "        beta_dot = a_q_tr / c\n",
    "        beta_dot_3d = np.append(beta_dot, 0)\n",
    "\n",
    "        # Scalar product n · beta\n",
    "        n_dot_beta = np.dot(n, beta)\n",
    "        gamma = 1 / np.sqrt(1 - np.linalg.norm(beta)**2)\n",
    "\n",
    "        # Denominator term\n",
    "        denom = (1 - n_dot_beta)**3 * R_mag**2\n",
    "\n",
    "        # **First term (velocity term) using 3D vectors**\n",
    "        term1 = (n_3d - beta_3d) / denom\n",
    "\n",
    "        # Compute the cross products in 3D\n",
    "        cross_inner = np.cross(n_3d - beta_3d, beta_dot_3d)\n",
    "        cross = np.cross(n_3d, cross_inner)\n",
    "\n",
    "        # Second term (acceleration term)\n",
    "        term2 = cross / ((1 - n_dot_beta)**3 * R_mag * c)\n",
    "\n",
    "        # Electric field vector in 3D\n",
    "        E_3d = (q / (4 * np.pi * epsilon_0)) * (term1 + term2)\n",
    "\n",
    "        # Since we are in 2D, extract the x and y components\n",
    "        E = E_3d[:2]\n",
    "\n",
    "        # Store components\n",
    "        Ex[i, j] = E[0]\n",
    "        Ey[i, j] = E[1]\n",
    "\n",
    "    # Store electric field for this time step\n",
    "    EHist[tidx, 0] = Ex\n",
    "    EHist[tidx, 1] = Ey"
   ]
  },
  {
   "cell_type": "markdown",
   "id": "b4922814-3124-4416-978d-8e7c9c2c85e5",
   "metadata": {},
   "source": [
    "Now we can visualize the simulation. There are many ways in which this could be done; however, one of the most intuitive is to make a movie of what is happening. I developed and maintain a package called mplEasyAnimate which makes making movies from matplotlib figures trivial. \n",
    "\n",
    "The idea here is that we will add a frame for each timestep in the simulation. Assuming most of the frame looks the same and just the data changes from timestep to timestep this will produce a nice animation of what we simulated. \n",
    "\n",
    "We next need to ask what kind of visualization would be right for a single timestep. There are a few resonable ways to vizualize an electric field; however, since we are interested in the field line density the most obvious is a contour plot which will show lines of constant electric field strength. In a contour plot the more densly packed lines are the larger the gradient (i.e the faster that parameter is varying)"
   ]
  },
  {
   "cell_type": "code",
   "execution_count": 199,
   "id": "609ce4d5-8cb4-4fbe-a9db-6f463cf80c0c",
   "metadata": {},
   "outputs": [
    {
     "data": {
      "application/json": {
       "ascii": false,
       "bar_format": null,
       "colour": null,
       "elapsed": 0.008126974105834961,
       "initial": 0,
       "n": 0,
       "ncols": null,
       "nrows": null,
       "postfix": null,
       "prefix": "",
       "rate": null,
       "total": 400,
       "unit": "it",
       "unit_divisor": 1000,
       "unit_scale": false
      },
      "application/vnd.jupyter.widget-view+json": {
       "model_id": "44d579f7eed547baabcbe63d1c253797",
       "version_major": 2,
       "version_minor": 0
      },
      "text/plain": [
       "  0%|          | 0/400 [00:00<?, ?it/s]"
      ]
     },
     "metadata": {},
     "output_type": "display_data"
    }
   ],
   "source": [
    "with animation(\"RetardedPotential-LowResolution.mp4\", fps=60, dpi=50) as anim:\n",
    "    for EField, r in tqdm(zip(EHist, rHist), total=num_steps):\n",
    "        E_magnitude = np.sqrt(EField[0]**2 + EField[1]**2)\n",
    "        Ex_norm = EField[0] / E_magnitude\n",
    "        Ey_norm = EField[1] / E_magnitude\n",
    "        fig, ax = plt.subplots(figsize=(8, 8))\n",
    "        \n",
    "        # Contour plot of electric field magnitude\n",
    "        contour = ax.contour(X, Y, E_magnitude, levels=30, cmap='inferno', alpha=0.7)\n",
    "        # ax.pcolormesh(X, Y, E_magnitude)\n",
    "        ax.plot(r[0], r[1], 'ro', markersize=3)\n",
    "        ax.set_xlabel('x')\n",
    "        ax.set_ylabel('y')\n",
    "        anim.add_frame(fig)\n",
    "\n",
    "        # We need to close the figure so that we dont fill up memory with frames already rendered out\n",
    "        plt.close(fig)\n"
   ]
  },
  {
   "cell_type": "code",
   "execution_count": 202,
   "id": "e422e601-9e51-4dd3-8cb4-62d2197cb2c7",
   "metadata": {},
   "outputs": [
    {
     "data": {
      "text/html": [
       "<video src=\"RetardedPotential-LowResolution.mp4\" controls  >\n",
       "      Your browser does not support the <code>video</code> element.\n",
       "    </video>"
      ],
      "text/plain": [
       "<IPython.core.display.Video object>"
      ]
     },
     "execution_count": 202,
     "metadata": {},
     "output_type": "execute_result"
    }
   ],
   "source": [
    "Video(\"RetardedPotential-LowResolution.mp4\")"
   ]
  },
  {
   "cell_type": "code",
   "execution_count": null,
   "id": "67b65f6a-1b88-4a8d-b639-7c774cb4a5e0",
   "metadata": {},
   "outputs": [],
   "source": []
  }
 ],
 "metadata": {
  "kernelspec": {
   "display_name": "General",
   "language": "python",
   "name": "general"
  },
  "language_info": {
   "codemirror_mode": {
    "name": "ipython",
    "version": 3
   },
   "file_extension": ".py",
   "mimetype": "text/x-python",
   "name": "python",
   "nbconvert_exporter": "python",
   "pygments_lexer": "ipython3",
   "version": "3.9.7"
  }
 },
 "nbformat": 4,
 "nbformat_minor": 5
}
