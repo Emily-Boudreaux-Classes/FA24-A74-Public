{
 "cells": [
  {
   "cell_type": "markdown",
   "id": "b9644d10-312e-43ec-8e9c-439f8da3dc92",
   "metadata": {},
   "source": [
    "# Class Work - Fourier Transforms\n",
    "This notebook will be a breif introduction to Fourier Transforms (FT) and their uses in astronomy. The Fourier Transform is one of the most important tools in any sort of signal processing you might be carying out. Developed in the early 1800s to aid in the describe the flow of heat, the Fourier transform allows you to break down *any* signal as a series of sine waves. The math behind how this works is interesting but not strictly nessisarity to understand (i.e. you can, to an extent, treat a FT as a black box). The key concept to recognize with a FT is that it transforms your data from the time-domain to the frequency-domain. That is to say that if your data represents a seriese of measurments through time (such as a light curve in astronomy) the FT of that data will represent the contributing power of frequencies for that signal. A peak in the FT at some frequency means that frequency strongly contributes to the overall shape of the signal.\n",
    "\n",
    "**N.B.** I will refer to a Fourier Transform, Fourier Series, and periodigram interchangably here. They are not strictly the same thing (as a FT is a continuous operation and a FS is a series expansion). Really what we will be doing here is a Lombscargle Periodogram. While this distinction *is* important in some fields for the purpose of astronomy the terms may generally be used interchangably. One practical difference is how these two methods deal with sampling and generality. A periodigram can handle unevenly spaced data wherease a FT can generally not.\n",
    "\n",
    "## Building a periodigram\n",
    "Included in this class work there is a file called lc.dat. Read this file in with python. You can use any parsing scheme you want; however, I reccoment pandas here. After you read in the data plot it so you can see what it looks like in the time domain."
   ]
  },
  {
   "cell_type": "code",
   "execution_count": 1,
   "id": "7f3b3b24-60e5-4f86-a9f1-963803fcdfa9",
   "metadata": {},
   "outputs": [],
   "source": [
    "import pandas as pd\n"
   ]
  },
  {
   "cell_type": "markdown",
   "id": "5d0c5980-b276-4438-8190-dc82e65b23d1",
   "metadata": {},
   "source": [
    "Now we need to bring in the libraries for computing the periodigram. Both scipy and astropy include periodigram methods. Here we will use the Lombscargle periodigram from astropy (mostly cause it is a bit more user friendly). The scipy routine can sometimes be more general so that is good to be familar with as well."
   ]
  },
  {
   "cell_type": "code",
   "execution_count": 2,
   "id": "f91f49f6-83c2-49b1-a22b-921d86f06ebf",
   "metadata": {},
   "outputs": [],
   "source": [
    "from astropy.timeseries import LombScargle"
   ]
  },
  {
   "cell_type": "markdown",
   "id": "de19bd01-4345-4d69-9438-5c49ba7216a2",
   "metadata": {},
   "source": [
    "Take some time now to go to the <a href=\"https://docs.astropy.org/en/stable/timeseries/lombscargle.html\">astropy documentation</a> (also <a href=\"https://docs.astropy.org/en/stable/api/astropy.timeseries.LombScargle.html#astropy.timeseries.LombScargle\">more docs here</a>)and read about how LombScargle is used. **Comfort reading the documentation of external libraries is an important skill to develope!** There is *a lot* of information in the astropy documentation pages, you do not need to absorb all of it. What I want you to focus on is the practicalities of how this object is used. Pay particular attention to what the arguments to the object are and what methods (functions) you can call on the object. When you are learning to use a new piece of code these are often the first and most important things you want familiarize yourself with.\n",
    "\n",
    "It is **okay** if the documentation is hard to parse through and you have questions! That is totally normal. Like any skill it takes practice. Please come to me when/if you have questions.\n",
    "\n",
    "Once you have spent some time looking through the documentation for the LombScargle periodiogram try to make a periodigram from the data you read in! What you should see is one peak.\n"
   ]
  },
  {
   "cell_type": "code",
   "execution_count": null,
   "id": "c148d3a6-7aca-4933-b41e-84721edf1a60",
   "metadata": {},
   "outputs": [],
   "source": []
  },
  {
   "cell_type": "markdown",
   "id": "a77661b5-9151-4667-a24e-3224f4d6d81e",
   "metadata": {},
   "source": [
    "## Q1. Interpreting FTs\n",
    "What is the *period* of the variablility in this light curve? Does this agree with what you would expect from the time series data?"
   ]
  },
  {
   "cell_type": "markdown",
   "id": "4ba2e2c1-f112-491c-86d7-c5d22c8880bc",
   "metadata": {},
   "source": [
    "**Your answer here** (double click to edit):"
   ]
  },
  {
   "cell_type": "markdown",
   "id": "9016f97d-6978-4933-9bf2-2008a19afb7e",
   "metadata": {},
   "source": [
    "## Q2. Limits of FTs\n",
    "Are there any limits of using a FT you can think of, just list anything you can think of! "
   ]
  },
  {
   "cell_type": "markdown",
   "id": "da718705-704b-4f2a-a43e-0a50ec876434",
   "metadata": {},
   "source": [
    "**Your answer here** (double click to edit):"
   ]
  },
  {
   "cell_type": "markdown",
   "id": "b7f81d9f-efc3-45c5-9289-b80d32433627",
   "metadata": {},
   "source": [
    "## Q3. Trends in Google Search Data\n",
    "\n",
    "<a href=\"https://trends.google.com/trends/\">Google Trends</a> allows a user to view some normalized version of search interest over time. Try to think of a topic which might have a periodic trend in its search interest (for example \"Olympics\"). Use the Google Trends form to pull up the information on your search then download it and generate a periodigram for it. Do you see a periodic trend in frequency space? Does it agree with what you expected? Do you see any additional trends in the data which you might not have expected?"
   ]
  },
  {
   "cell_type": "code",
   "execution_count": null,
   "id": "d8911350-8293-484e-9a56-3182c47f49fc",
   "metadata": {},
   "outputs": [],
   "source": [
    "Code here..."
   ]
  },
  {
   "cell_type": "markdown",
   "id": "9d6aa4e4-c5ac-4eb9-8181-5dd80772beb4",
   "metadata": {},
   "source": [
    "**Your answer here** (double click to edit):"
   ]
  },
  {
   "cell_type": "code",
   "execution_count": null,
   "id": "00c37144-be78-4785-bfd0-8234b9837c31",
   "metadata": {},
   "outputs": [],
   "source": []
  }
 ],
 "metadata": {
  "kernelspec": {
   "display_name": "General",
   "language": "python",
   "name": "general"
  },
  "language_info": {
   "codemirror_mode": {
    "name": "ipython",
    "version": 3
   },
   "file_extension": ".py",
   "mimetype": "text/x-python",
   "name": "python",
   "nbconvert_exporter": "python",
   "pygments_lexer": "ipython3",
   "version": "3.9.7"
  }
 },
 "nbformat": 4,
 "nbformat_minor": 5
}
