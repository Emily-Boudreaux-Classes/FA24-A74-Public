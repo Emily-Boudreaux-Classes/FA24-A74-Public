{
 "cells": [
  {
   "cell_type": "markdown",
   "id": "75456c29-3b18-4731-9004-6d73a16ff407",
   "metadata": {},
   "source": [
    "# Project 0\n",
    "## Installation of Jupyter, Tools for Use, and Gasses\n",
    "\n",
    "### Intro\n",
    "Throughout this course there will be a few projects which use Jupyter Notebook and Python. Moreover, you are encouraged (but *not* required) to use these same tools to solve certain homework problems. For those unfamiliar, Jupyter notebook is a very helpful tool originally built to integrate text and code together in one document. The following will be a introduction to jupyter and python assuming little to no foreknowledge of these tools. If you have experience using them feel free to skip ahead to the section labeled **Installation**.\n",
    "\n",
    "### Jupyter & Python\n",
    "Jupyter itself is an application which you access through a web browser, jupyter *is not* a programming language. Instead, jupyter connects to what are called kernels. These are seperate applications which evaluate code from various languages. Most often (and always in this class) we will use jupyter with a python kernel. This means that we will write code in jupyter, and then when we ask jupyter to evaluate a code cell that cell is sent off to the python kernel for evaluation. This then begs the question, what is python.\n",
    "\n",
    "A computer science heavy definition of Python is a high-level multi-paradigm dynamically-typed interprited language. A more useful definition for us is that python is the current lingua franca of Astronomy. That is to say that for approximalty the last 10 years almost all professional astronomy has been done, in some way in Python. In order to operate in the world of astronomy today **knowing how to use Python is a key skill**. That is not to say that *all* astronomy software is written in python. Fortran and C still hold important places when it comes to high performance simulations while IDL and IRAF scripting still exist in a limited sense. \n",
    "\n",
    "If we ask ourselves why Python is so dominate in the field we have to contend with the fact that its dominace is relativley recent. Up and until 10 years ago C, Fortran, IDL, and IRAF were far more important in day to day astornomy (and not just for data-reduction pipelines or intense numerical simulations). Why then did these established languages get displaced by python? It is not because python brings a performance increase. In fact of all the languages given python is by far the least performant. Instead, python brings an ease of use increase. Python code is, generally, far easier to write and to read than equivilent C or Fortran code would be. This turns out to be a tradeoff which many, many ,many astronomers have decided is acceptable.\n",
    "\n",
    "Jupyter developed somewhat in step with python's adoption by the community (not just in astronomy but in the wider scientific commiunity, though astronomers played a large role in Jupyter development). Jupyter developed as a way to integrate text (such as what you are currently reading) into the same document as code. Jupyter uses a **cell model** where each cell can be either a **markdown cell** which contains formated text or a **code cell** which contains some code to be evaluated. This is useful when you want to tell a story where code is a large part. What I find is the other important use of Jupyter is as a **visual and dynamic code editor**. That is to say that in jupyter visualizations are rendered in-line instead of opening in a seperate window. This does mean that you do not have the ability to pan, scroll, or zoom on them (as they are litterally rendered to a png and then that png is embedded into the webpage); however, I find having those visualiations right next to the code actually lets me iterate and explore faster.\n",
    "\n",
    "To use Jupyter you interact with a file called a notebook (*.ipynb files). These can be opened with a number of programs such as the original Jupyter Notebook, the more modern Jupyter Lab (which is what I reccomend you use for this class), or even more traditional text editors such as VS code which contain plugins to emulate the cell like behavior of jupyter. Below I provide instructions for installing and using **Jupyter Lab**.\n",
    "\n",
    "### Installation\n",
    "The installation instructions will change somewhat from system to system. In general they will probably be a bit simpler on a mac or linux system and a bit more involved on a windows system. I will try my best to provided installation assistance to windows users; however, I am simply not familar with those systems. If after a decent effort you are unable to install jupyter lab on windows either come to my office hours or email me and I will work on it. If that does not work I will likeley direct you to John Griffen, the Department of Physics and Astronomy's IT proffessional who will be more qualified to help. \n",
    "\n",
    "I recomend installing the python distribution and package manager **<a href=\"https://docs.anaconda.com/anaconda/install/\">anaconda</a>** which will package everything you need in order to use python and jupyter in this class. The link provided should detail how to install anaconda on various systems. **DURING INSTALLATION ANSWER YES TO ANY PROMPT ASKING IF YOU WOULD LIKE TO ADD ANACOND TO YOUR SHELL OR IF YOU WANT TO INITIALIZE CONDA**. Anaconda will install a version of python on your system and then tell your system to prefer that version over any previously installed version of python. If you don't want to use anaconda that is *okay* you can either install jupyter on your own or come to me and we can work on installing it without anaconda. That being said, the following instructions will assume that anaconda has been installed.\n",
    "\n",
    "First, check to make sure the version of python you are using is from anaconda (all of these slightly indented code blocks are meant to be run in a terminal emulator, on mac by default this is called term, linux distros all have some varient of this, and I belive similar things can be done from CMD on windows).\n",
    "\n",
    "```bash\n",
    "which python\n",
    "```\n",
    "this should print out something like `/User/username/anaconda3/bin/python`. If it does not then close your terminal emulator and the reopen it (or resource your profile file). Next we are going to install jupyter and ipython (which is the python kernel jupyter will use) using the python package manager (pip). \n",
    "\n",
    "```bash\n",
    "pip install ipython\n",
    "pip install jupyterlab\n",
    "```\n",
    "\n",
    "At this point, assuming you did not get any error messages, you should be set to go. In order to use jupyter\n",
    "\n",
    "```bash\n",
    "jupyterlab\n",
    "```\n",
    "\n",
    "This should automatically open a browser and redirect it to a local address. Jupyter is actually running a local webserver which your computer is then connecting to. Within jupyter lab you can browse to different locations on your computer using the file browser in the side bar, create new notebooks by clicking the blue + button at the top of the sidebar, or make new folders with the + folder icon in the same place. When you click the blue plus you will be asked to choose a kernel. You likley only have one avalible, so select that. Now, finally, you are in a jupyter notebook. **At this point I recomend opening the \\*.ipynb version of this file (as opposed to the pdf version) so you can follow along in jupyter.**\n",
    "\n",
    "### Getting Started\n",
    "There are a few python modules (external code written by others) which we are going to use in this project. These can all also be installed with the python package manager. We will need\n",
    "\n",
    "1. numpy (general math and array tools)\n",
    "2. matplotlib (graphing and visualization)\n",
    "3. scipy (more advanced numerical models)\n",
    "4. astropy (astronomy specific tools)\n",
    "5. astroquery (access to astronomy datasets)\n",
    "6. pandas (more complex data tables)\n",
    "\n",
    "Some of these are likeley already installed (as they come with anaconda by default); however, just to make sure run `pip install ...` for each of them (i.e. `pip install numpy`)\n",
    "\n",
    "Once those are all installed you can use them in the notebook which you already created."
   ]
  },
  {
   "cell_type": "code",
   "execution_count": null,
   "id": "14f3b4d3-eb5d-46cf-9aad-6ab4f365aa83",
   "metadata": {},
   "outputs": [],
   "source": [
    "# There are a few differnet ways to import modules into python\n",
    "\n",
    "import numpy as np # names the numpy module np for faster typing, this is super common to do\n",
    "import matplotlib.pyplot as plt # imports only the pyplot submodule from matplotlib and names it plt\n",
    "import pandas as pd\n",
    "from astropy import units as u\n",
    "from astropy import constants as const"
   ]
  },
  {
   "cell_type": "markdown",
   "id": "c7698d73-43ca-4ea1-ac87-1941ad9bb77b",
   "metadata": {},
   "source": [
    "## Using units\n",
    "\n",
    "Astropy is a package designed by and for astronomers. We'll use two modules from astropy, which we'll import directly. Here, we'll be using the astropy \"units\" module to keep track of units for us. This is extremely convenient because it allows us to convert between units, and keep track of our units, automatically. From personal experience, there can be huge problems if you get this wrong. As a warning, you do need to make sure you have the units you want before using the value somewhere that you aren't keeping track of units. \n",
    "\n",
    "After this project I will **not** require the use of astropy units; however, I do encorage you to use them as they really do help prevent some simple mistakes (note that in certain circumstances they can complicate things and it might make sense to not use them, in those cases you just need to be extra careful about tracing your units manually)"
   ]
  },
  {
   "cell_type": "code",
   "execution_count": null,
   "id": "33cf98e0-ef3f-47fe-927f-9f4189bb7910",
   "metadata": {},
   "outputs": [],
   "source": [
    "myvelocity = 1e-5*const.c  # use the speed of light stored in astropy.constants\n",
    "print(myvelocity)\n",
    "print(myvelocity.to('cm/s'))   # change the units to cm/s\n",
    "\n",
    "mydistance = myvelocity*(5*u.min)\n",
    "print(mydistance)# multiply by 5 min\n",
    "# hmmm, units of \"min/s\" is kind of silly\n",
    "# either of these simplifies the units for you\n",
    "print(mydistance.decompose(), \"or\", mydistance.to('m')) "
   ]
  },
  {
   "cell_type": "markdown",
   "id": "8fbb187e-b2d0-4d68-bf6a-bdb8e396e237",
   "metadata": {},
   "source": [
    "## Q1: an array of random numbers\n",
    "\n",
    "Create an array of random numbers for velocities and distances, using one of the options in np.random (e.g. a Gaussian, using \"normal\" or a Rayleigh distribution). I've included an example creating an array of random integers between 0 and 10, appending units on the end. Print out your array."
   ]
  },
  {
   "cell_type": "code",
   "execution_count": null,
   "id": "21e14608-9482-482c-a86b-92c61a060fe6",
   "metadata": {},
   "outputs": [],
   "source": [
    "myvelocities = np.random.randint(low=0,high=10,size=20)*u.m/u.s\n",
    "mydistances = np.random.randint(low=0,high=10,size=20)*u.m\n",
    "print(myvelocities)"
   ]
  },
  {
   "cell_type": "code",
   "execution_count": null,
   "id": "88ad2fab-d478-4972-82eb-0d9d8067604e",
   "metadata": {},
   "outputs": [],
   "source": [
    "# plot the data\n",
    "plt.scatter(myvelocities, mydistances)\n",
    "\n",
    "# extract the units so you can use them in your axes labels\n",
    "xunit_string = mydistances.unit.to_string('latex_inline')\n",
    "yunit_string = myvelocities.decompose().unit.to_string('latex_inline')\n",
    "\n",
    "# make the plot\n",
    "plt.ylabel('Velocity ({})'.format(yunit_string))\n",
    "plt.xlabel('Distance ({})'.format(xunit_string))"
   ]
  },
  {
   "cell_type": "markdown",
   "id": "7d8b36d8-fceb-4740-a29a-202a31b6ae1f",
   "metadata": {},
   "source": [
    "## Q2: An Ideal Gas\n",
    "\n",
    "Earth's atmospheric pressure at sea level is $1.01 \\times 10^5~Pa$ (where $1~Pa = 1~N/m^2 = 10^{-5}~bar$). At room temperature ($293 K$) and this pressure, how much volume would be filled by a little cloud of $10^6~ N_2$ molecules?"
   ]
  },
  {
   "cell_type": "code",
   "execution_count": null,
   "id": "0b497782-238a-4374-8312-4260c2e97034",
   "metadata": {},
   "outputs": [],
   "source": [
    "# For the sake of getting use to Python and jupyter notebooks,\n",
    "# please use this code cell to perform your calculation.\n",
    "# (Be sure to indicate the units associated with your answer).\n",
    "\n",
    "N = int(1e6)                  # total number of molecules\n",
    "pressure = 1.01e5*u.Pa    # in units of Pa\n",
    "temperature = 293*u.K     # in units of K\n",
    "k_B = const.k_B           # Boltzmann's constant\n",
    "\n",
    "# ..."
   ]
  },
  {
   "cell_type": "markdown",
   "id": "dd9fdcd3-5fab-4511-ac40-10f078e0b054",
   "metadata": {},
   "source": [
    "### Q3: Speeds in Gases \n",
    "\n",
    "Let's play around a little with these $10^6~N_2$ atoms, and the speeds at which they're moving. The Maxwell-Boltzmann distribution gives the probability for a particle in an ideal gas to have the $x$-component of its *velocity* fall between $v_x$ and $v_x + dv_x$ is written as \n",
    "\n",
    "$$ f(v_x)dv_x = \\left(\\frac{m}{2\\pi k_B T}\\right)^{1/2}\\exp \\left(\\frac{-mv_x^2}{2 k_B T} \\right)dv_x $$\n",
    "\n",
    "where $m$ is the mass of the particle, $T$ is the temperature of the gas, and $k_B = 1.38 \\times 10^{-23}~J~K^{-1}$ is Boltzmann's constant. If we define the quantity $\\sigma = \\sqrt{k_B T/m}$, then the above expression can be rewritten as \n",
    "\n",
    "$$ f(v_x)dv_x = \\frac{1}{\\sqrt{2\\pi} \\sigma}\\exp \\left(\\frac{-v_x^2}{2 \\sigma^2} \\right)dv_x $$\n",
    "\n",
    "which is precisely the equation for a Gaussian or \"normal\" probability distribution, centered at $v_x = 0$ and with a width of $\\sigma$. \n",
    "\n",
    "Let's use Python to calculate $\\sigma$ for simulate the $x$-component of the velocities for $10^6$ imaginary $N_2$ molecules, and then we'll create a `numpy` array that contains $10^6$ random numbers drawn from this probability distribution. "
   ]
  },
  {
   "cell_type": "code",
   "execution_count": null,
   "id": "0baef8ac-acd9-4574-b92d-6f85c26345a7",
   "metadata": {},
   "outputs": [],
   "source": [
    "# define our values\n",
    "temperature = 293*u.K         # the temperature, in units of K\n",
    "k_B = const.k_B               # Boltzmann's constant, in units of J/K\n",
    "mass = 28*u.Dalton            # the mass of an N2 molecule, in amu (or Daltons)\n",
    "\n",
    "# calculate sigma from these (check on paper that the units make sense!)\n",
    "sigma = np.sqrt( (k_B*temperature/mass).decompose() )   # in units of m/s\n",
    "\n",
    "# draw a 1e5 random numbers from a Gaussian (\"normal\") distribution, \n",
    "# centered at vx=0 and with a width of sigma\n",
    "# note these numpy functions can't use numbers with units\n",
    "vx = np.random.normal(0,sigma.value,N)*sigma.unit #strip sigma of its units, but make sure vx keeps the right units"
   ]
  },
  {
   "cell_type": "markdown",
   "id": "a91bdb90-95c0-4861-b08e-85d7adffc2f9",
   "metadata": {},
   "source": [
    "Now, let's see how frequently particular values of $v_x$ occur, by plotting a histogram. We will use `plt.hist` (https://matplotlib.org/3.1.1/api/_as_gen/matplotlib.pyplot.hist.html) to make the histogram. Then, plot your histogram and add axis labels (e.g. https://matplotlib.org/3.1.1/api/_as_gen/matplotlib.pyplot.xlabel.html). I made the choice to use the `density=True` option in `plt.hist` means this distribution will be plotted as a probability density (which is a function that integrates to 1)."
   ]
  },
  {
   "cell_type": "code",
   "execution_count": null,
   "id": "44eecc81-212a-48d0-8300-21d69fcf0773",
   "metadata": {},
   "outputs": [],
   "source": [
    "# Let's define a domain to work over \n",
    "vx_axis = np.linspace(-1500, 1500, 1000)*u.m/u.s\n",
    "\n",
    "# Using the formula given above to get the velocity distribution\n",
    "probability = (1/(np.sqrt(2*np.pi)*sigma))*np.exp(-vx_axis**2/2/sigma**2)\n",
    "\n",
    "\n",
    "# It is good to seperate plotting code from calculation code.\n",
    "\n",
    "# instantiate the figure (overarching container) and axis (actual dataspace between x and y axis) objects\n",
    "fig, ax = plt.subplots(1, 1, figsize=(10, 7))\n",
    "ax.hist(vx.value, bins=50, density=True)\n",
    "ax.set_xlabel(f'$x$-component of Velocity ({yunit_string})')\n",
    "ax.set_ylabel('Probability Density')\n",
    "ax.set_title('Distribution of Velocities in the $x$ Direction')\n",
    "ax.plot(vx_axis, probability, linewidth=5, color='darkorange', alpha=0.5)\n",
    "\n",
    "# we can plot the expected average value for vx\n",
    "ax.axvline(0, color='gray', lw=4, label=r'$\\bar{v}_{expected}$')\n",
    "\n",
    "# we can plot the actual average value of vx, measured from our simulation\n",
    "vx_average = np.mean(vx.value)\n",
    "ax.axvline(vx_average, linestyle='--', color='black', label=r'$\\bar{v}_{actual}$')\n",
    "\n",
    "# add a legend, including the labels that were assigned to each line\n",
    "ax.legend(frameon=False, loc='best');"
   ]
  },
  {
   "cell_type": "markdown",
   "id": "1bf74d5b-ffef-45a9-b4da-74242abffc02",
   "metadata": {},
   "source": [
    "Hey, cool! The histogram of random numbers that we created with Python follows the shape of the distribution we draw them from. Maybe that's not so surprising, but it's a useful test! Now, let's expand this to three dimensions of motion, and calculate a few more quantities."
   ]
  },
  {
   "cell_type": "markdown",
   "id": "9b0d8150-e10b-4998-9e41-7cbb71cc58cd",
   "metadata": {},
   "source": [
    "+ Create two more arrays for $v_y$ and $v_z$ in the same way you did for $v_x$, assuming the motion in the three directions is totally independent."
   ]
  },
  {
   "cell_type": "code",
   "execution_count": null,
   "id": "b58bcf2f-8268-4b3b-93a8-2a86ba7740de",
   "metadata": {},
   "outputs": [],
   "source": []
  },
  {
   "cell_type": "markdown",
   "id": "a5cba9ad-bdf9-49cb-b83e-ab66c29fde19",
   "metadata": {},
   "source": [
    "+ Plot a histogram of $s = \\sqrt{v^2}$, where $s$ indicates the speed of the particles (the magnitude of their 3D velocity vectors). \n",
    "\n",
    "+ Indicate with vertical lines on your plot the gravitational escape speed of the planet Earth (11.2 km/s) and the approximate escape speed of the comet 67P/Churyumov–Gerasimenko (1 m/s). "
   ]
  },
  {
   "cell_type": "code",
   "execution_count": null,
   "id": "4bc187ad-80f3-4b34-a224-43e0b3972b5d",
   "metadata": {},
   "outputs": [],
   "source": []
  },
  {
   "cell_type": "markdown",
   "id": "d31a8dc4-5b82-434b-8c59-c84df9476d28",
   "metadata": {},
   "source": [
    "+ Briefly discuss the implications of the particle speeds and escape speeds for the long-term persistence of an atmosphere on these two bodies."
   ]
  },
  {
   "cell_type": "markdown",
   "id": "49ee3518-9505-46ec-b1dd-1c52b1cd8836",
   "metadata": {},
   "source": [
    "**Your Breif Discussion Here** (Double click to edit):"
   ]
  },
  {
   "cell_type": "markdown",
   "id": "41914255-180a-4dbe-9090-70386ccb3987",
   "metadata": {},
   "source": [
    "**Instructions for Submission:** You can submit this file to canvas as a .ipynb file. Before doing so make sure that you restart the kernel (from the menu bar Kernel>Restart Kernel) then run all cells in order (Run>Run All Cells). You are also welcome to submit as a PDF (File>Save And Export Notebook As>PDF). Note that PDF export may not work if you do not have pdflatex installed on your computer. "
   ]
  }
 ],
 "metadata": {
  "kernelspec": {
   "display_name": "General",
   "language": "python",
   "name": "general"
  },
  "language_info": {
   "codemirror_mode": {
    "name": "ipython",
    "version": 3
   },
   "file_extension": ".py",
   "mimetype": "text/x-python",
   "name": "python",
   "nbconvert_exporter": "python",
   "pygments_lexer": "ipython3",
   "version": "3.9.7"
  }
 },
 "nbformat": 4,
 "nbformat_minor": 5
}
